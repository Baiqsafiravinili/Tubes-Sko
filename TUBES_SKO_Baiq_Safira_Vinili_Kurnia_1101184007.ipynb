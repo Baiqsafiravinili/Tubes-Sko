{
  "nbformat": 4,
  "nbformat_minor": 0,
  "metadata": {
    "colab": {
      "name": "TUBES SKO_Baiq Safira Vinili Kurnia_1101184007.ipynb",
      "provenance": [],
      "authorship_tag": "ABX9TyOXR8qia2f2o0BFR+RXRqdh",
      "include_colab_link": true
    },
    "kernelspec": {
      "name": "python3",
      "display_name": "Python 3"
    }
  },
  "cells": [
    {
      "cell_type": "markdown",
      "metadata": {
        "id": "view-in-github",
        "colab_type": "text"
      },
      "source": [
        "<a href=\"https://colab.research.google.com/github/Baiqsafiravinili/Tubes-Sko/blob/main/TUBES_SKO_Baiq_Safira_Vinili_Kurnia_1101184007.ipynb\" target=\"_parent\"><img src=\"https://colab.research.google.com/assets/colab-badge.svg\" alt=\"Open In Colab\"/></a>"
      ]
    },
    {
      "cell_type": "markdown",
      "metadata": {
        "id": "yIV0I5dU9EKv"
      },
      "source": [
        "**TUGAS BESAR SKO**\r\n",
        "\r\n",
        "NAMA   : BAIQ SAFIRA VINILI KURNIA\r\n",
        "\r\n",
        "NIM    : 1101184007\r\n",
        "\r\n",
        "KELAS : TT-42-07"
      ]
    },
    {
      "cell_type": "code",
      "metadata": {
        "id": "4J7NjOQx9cbn"
      },
      "source": [
        "import math as m\r\n",
        "import matplotlib.pyplot as plt\r\n",
        "import numpy as np"
      ],
      "execution_count": 1,
      "outputs": []
    },
    {
      "cell_type": "markdown",
      "metadata": {
        "id": "_oiFqB0h9wK-"
      },
      "source": [
        "**KETERANGAN**\r\n",
        "\r\n",
        "Diketahui sebuah Gedung di daerah Senggigi, Lombok memiliki jarak dari sentral STO Mataram sejauh 16 Km, dan gedung tersebut memiliki 20 Lantai. Lantai yang di hitung adalah lantai 12, Untuk jarak lanjutannya menggunakan 4 meter, sehingga jumlah lantai yang dipakai di kali 4 meter sehingga jarak yang di tempuh sampai ke Roset dilantai adalah ditambah 48 meter.Maka total jaraknya yaitu 16.048 Km atau 16.048 meter.\r\n",
        "\r\n",
        "Panjang gelombang yang diketahui yang dipakai adalah 1490 nm dengan redaman 0,28 db/Km\r\n",
        "\r\n",
        "4 Connector, 2 Splitter, dan 8 Splicer.\r\n",
        "\r\n",
        "Untuk Splitter, masing-masing memiliki redaman. Splitter pertama memiliki redaman sebesar 16.5 dB (Splitter 1:32) dan yang kedua memiliki redaman sebesar 19,28 dB (Splitter 1:64).\r\n",
        "\r\n",
        "Untuk Splicer nya memiliki redaman sebesar 0,1 dB\r\n",
        "\r\n",
        "Angka lain berhubungan dengan ketetapan yang diambil dari jurnal atau paper yang dijadikan referensi."
      ]
    },
    {
      "cell_type": "markdown",
      "metadata": {
        "id": "Ur7tU-Xd-YCl"
      },
      "source": [
        "**PARAMETER**"
      ]
    },
    {
      "cell_type": "code",
      "metadata": {
        "id": "vQebbeQK-bhH"
      },
      "source": [
        "#---Kabel FO G.652 - SI-SM\r\n",
        "L=154 #km\r\n",
        "Hspl=2 #km\r\n",
        "disp_M= 6e-12 #s/km.nm\r\n",
        "alpha_f=0.2 #dB/km"
      ],
      "execution_count": 3,
      "outputs": []
    },
    {
      "cell_type": "code",
      "metadata": {
        "id": "hxtfEQOUW2LR"
      },
      "source": [
        "#PARAMETER UNTUK DAYA TERIMA\r\n",
        "j = np.arange(1.048,16.048,1)\r\n",
        "loss_fiber = 0.28 * j\r\n",
        "ptrans = 4\r\n",
        "\r\n",
        "#Splicer\r\n",
        "splicer = 8\r\n",
        "loss_splicer = 0.1 * 8\r\n",
        "\r\n",
        "#Connector\r\n",
        "connector = 4\r\n",
        "loss_connector = 0.3 * 4\r\n",
        "\r\n",
        "#Splitter\r\n",
        "splitter1 = 16.5\r\n",
        "splitter2 = 19.28\r\n",
        "loss_splitter = 16.5 + 19.28"
      ],
      "execution_count": 14,
      "outputs": []
    },
    {
      "cell_type": "code",
      "metadata": {
        "id": "3oZW7UT0Xnt-"
      },
      "source": [
        "#PARAMETER UNTUK SIGNAL TO NOISE RATIO (SNR)\r\n",
        "responsivitas = 0.85\r\n",
        "dtsinyal = -0.23\r\n",
        "loss_margin = 3\r\n",
        "muatan = 1.6*10**-19\r\n",
        "arusgelap = 2*10**-7\r\n",
        "BW = 8*10**9\r\n",
        "noise_figure = 1\r\n",
        "kboltzman = 1.38*10**-23\r\n",
        "tmp = 290\r\n",
        "RL = 50 "
      ],
      "execution_count": 15,
      "outputs": []
    },
    {
      "cell_type": "code",
      "metadata": {
        "id": "TypyiXZ5XxEN"
      },
      "source": [
        "#PENGKONVERSIAN\r\n",
        "NtL = lambda x : 10 * np.log10(x)\r\n",
        "LtN = lambda x : 10**(x/10)"
      ],
      "execution_count": 16,
      "outputs": []
    },
    {
      "cell_type": "markdown",
      "metadata": {
        "id": "Lm48PdKPX2De"
      },
      "source": [
        "**ANALISIS (FUNGSI & GRAFIK)**"
      ]
    },
    {
      "cell_type": "code",
      "metadata": {
        "colab": {
          "base_uri": "https://localhost:8080/"
        },
        "id": "ordExCCcX5Dj",
        "outputId": "1508db79-dc97-4aeb-b889-b3b2e93d17bd"
      },
      "source": [
        "#FUNGSI DAYA TERIMA\r\n",
        "def dayaterima(ptrans,j,loss_fiber,splicer,loss_splicer,connector,loss_connector,loss_splitter,loss_margin):\r\n",
        "  RT = loss_fiber + loss_splicer + loss_connector + loss_splitter + loss_margin\r\n",
        "  preceive = ptrans - RT\r\n",
        "  return preceive\r\n",
        "preceive = dayaterima(ptrans,j,loss_fiber,splicer,loss_splicer,connector,loss_connector,loss_splitter,loss_margin)\r\n",
        "print (\"Daya Terima =\",preceive)"
      ],
      "execution_count": 17,
      "outputs": [
        {
          "output_type": "stream",
          "text": [
            "Daya Terima = [-37.07344 -37.35344 -37.63344 -37.91344 -38.19344 -38.47344 -38.75344\n",
            " -39.03344 -39.31344 -39.59344 -39.87344 -40.15344 -40.43344 -40.71344\n",
            " -40.99344]\n"
          ],
          "name": "stdout"
        }
      ]
    },
    {
      "cell_type": "code",
      "metadata": {
        "colab": {
          "base_uri": "https://localhost:8080/",
          "height": 346
        },
        "id": "nt9JHHaVYIdD",
        "outputId": "f00e3f61-9812-4701-d866-2c61397bd662"
      },
      "source": [
        "#FUNGSI SIGNAL NOISE TO RATIO\r\n",
        "\r\n",
        "#Arus primer\r\n",
        "def arusprimer(preceive):\r\n",
        "  preceive_num = LtN(preceive)\r\n",
        "  iprimer = preceive_num * responsivitas\r\n",
        "  return iprimer\r\n",
        "iprimer = arusprimer(preceive)\r\n",
        "\r\n",
        "#BDC\r\n",
        "def bdc(muatan,arusgelap,BW,dtsinyal,noise_figure):\r\n",
        "  BDC = 2*muatan*arusgelap*BW*dtsinyal*dtsinyal*noise_figure\r\n",
        "  return BDC\r\n",
        "BDC = bdc(muatan,arusgelap,BW,dtsinyal,noise_figure)\r\n",
        "\r\n",
        "#Shot Noise\r\n",
        "def shotnoise(muatan,arusgelap,BW,dtsinyal,noise_figure):\r\n",
        "  sn = 2*muatan*arusgelap*BW*dtsinyal*dtsinyal*noise_figure\r\n",
        "  return sn\r\n",
        "sn = shotnoise(muatan,arusgelap,BW,dtsinyal,noise_figure)\r\n",
        "\r\n",
        "#Noise Thermal\r\n",
        "def noisethermal(kboltzman,tmp,BW,RL):\r\n",
        "  nt = (4*kboltzman*tmp*BW)/RL\r\n",
        "  return nt\r\n",
        "nt = noisethermal(kboltzman,tmp,BW,RL)\r\n",
        "\r\n",
        "#SNR (Signal Noise to Ratio)\r\n",
        "def snr(BDC,sn,nt,dtsinyal,iprimer):\r\n",
        "  SNR = ((iprimer)**2 * dtsinyal**2)/(BDC + sn + nt)\r\n",
        "  signr = NtL(SNR) \r\n",
        "  return signr\r\n",
        "signr = snr(BDC,sn,nt,dtsinyal,iprimer)\r\n",
        "print(\"SNR =\",signr)\r\n",
        "\r\n",
        "#GRAFIK SIGNAL NOISE TO RATIO (SNR)\r\n",
        "def grafik_snr():\r\n",
        "  plt.figure()\r\n",
        "  plt.plot(j,signr,'--')\r\n",
        "  plt.title('Perbandingan Jarak dengan SNR')\r\n",
        "  plt.xlabel('Jarak (Km)')\r\n",
        "  plt.ylabel('SNR (dB)')\r\n",
        "  plt.show()\r\n",
        "\r\n",
        "grafik_snr()"
      ],
      "execution_count": 18,
      "outputs": [
        {
          "output_type": "stream",
          "text": [
            "SNR = [27.5913928 27.0313928 26.4713928 25.9113928 25.3513928 24.7913928\n",
            " 24.2313928 23.6713928 23.1113928 22.5513928 21.9913928 21.4313928\n",
            " 20.8713928 20.3113928 19.7513928]\n"
          ],
          "name": "stdout"
        },
        {
          "output_type": "display_data",
          "data": {
            "image/png": "[encoded data removed]",
            "text/plain": [
              "<Figure size 432x288 with 1 Axes>"
            ]
          },
          "metadata": {
            "tags": [],
            "needs_background": "light"
          }
        }
      ]
    },
    {
      "cell_type": "code",
      "metadata": {
        "colab": {
          "base_uri": "https://localhost:8080/",
          "height": 346
        },
        "id": "MdahK_OoYVqB",
        "outputId": "a3b5f75b-6744-4197-931c-b96aaf5481d5"
      },
      "source": [
        "#FUNGSI Q-FAKTOR\r\n",
        "def qfaktor(signr):\r\n",
        "  qf = 10**(signr/20)\r\n",
        "  return qf\r\n",
        "QF = qfaktor(signr)\r\n",
        "print(\"Q-Faktor =\",QF)\r\n",
        "\r\n",
        "#GRAFIK Q-FAKTOR\r\n",
        "def grafik_Q():\r\n",
        "  plt.figure()\r\n",
        "  plt.plot(j,QF,'--')\r\n",
        "  plt.title('Perbandingan Jarak dengan Q')\r\n",
        "  plt.xlabel('Jarak (Km)')\r\n",
        "  plt.ylabel('Q')\r\n",
        "  plt.show()\r\n",
        "\r\n",
        "grafik_Q()"
      ],
      "execution_count": 19,
      "outputs": [
        {
          "output_type": "stream",
          "text": [
            "Q-Faktor = [23.96456996 22.46827031 21.0653966  19.75011552 18.51695794 17.36079625\n",
            " 16.27682297 15.26053081 14.3076939  13.4143502  12.5767851  11.79151588\n",
            " 11.05527729 10.36500796  9.71783767]\n"
          ],
          "name": "stdout"
        },
        {
          "output_type": "display_data",
          "data": {
            "image/png": "[encoded data removed]",
            "text/plain": [
              "<Figure size 432x288 with 1 Axes>"
            ]
          },
          "metadata": {
            "tags": [],
            "needs_background": "light"
          }
        }
      ]
    },
    {
      "cell_type": "code",
      "metadata": {
        "colab": {
          "base_uri": "https://localhost:8080/",
          "height": 363
        },
        "id": "y39PeMKmYeUg",
        "outputId": "76c29101-b8af-4bc8-bf3f-1b7d57e1116e"
      },
      "source": [
        "#FUNGSI BER\r\n",
        "def ber(QF):\r\n",
        "  phi = 3.14159\r\n",
        "  BER = (1/(QF*np.sqrt(2*phi)))*(np.exp(-QF**2/2))\r\n",
        "  return BER\r\n",
        "BER = ber(QF)\r\n",
        "print(\"BER =\",BER)\r\n",
        "\r\n",
        "#GRAFIK BER\r\n",
        "def grafik_BER():\r\n",
        "  plt.figure()\r\n",
        "  plt.plot(j,BER,'--')\r\n",
        "  plt.title('Perbandingan Jarak dengan BER')\r\n",
        "  plt.xlabel('Jarak (Km)')\r\n",
        "  plt.ylabel('BER')\r\n",
        "  plt.show()\r\n",
        "\r\n",
        "grafik_BER()"
      ],
      "execution_count": 20,
      "outputs": [
        {
          "output_type": "stream",
          "text": [
            "BER = [3.26247293e-127 4.24993149e-112 8.28036752e-099 4.01193712e-087\n",
            " 7.55765848e-077 8.19898568e-068 7.23508594e-060 7.03502799e-053\n",
            " 9.84251761e-047 2.50510331e-041 1.42548325e-036 2.17380969e-032\n",
            " 1.04180899e-028 1.80499651e-025 1.27862634e-022]\n"
          ],
          "name": "stdout"
        },
        {
          "output_type": "display_data",
          "data": {
            "image/png": "[encoded data removed]",
            "text/plain": [
              "<Figure size 432x288 with 1 Axes>"
            ]
          },
          "metadata": {
            "tags": [],
            "needs_background": "light"
          }
        }
      ]
    },
    {
      "cell_type": "code",
      "metadata": {
        "colab": {
          "base_uri": "https://localhost:8080/",
          "height": 295
        },
        "id": "-32cu1DxYmqQ",
        "outputId": "cb7b4fa2-c208-4e5e-a588-ecced274df62"
      },
      "source": [
        "def grafik_perbandingan():\r\n",
        "  plt.figure()\r\n",
        "  plt.plot(signr,BER,'--')\r\n",
        "  plt.title('Perbandingan BER dengan SNR')\r\n",
        "  plt.xlabel('SNR')\r\n",
        "  plt.ylabel('BER')\r\n",
        "  plt.show()\r\n",
        "\r\n",
        "grafik_perbandingan()"
      ],
      "execution_count": 21,
      "outputs": [
        {
          "output_type": "display_data",
          "data": {
            "image/png": "[encoded data removed]",
            "text/plain": [
              "<Figure size 432x288 with 1 Axes>"
            ]
          },
          "metadata": {
            "tags": [],
            "needs_background": "light"
          }
        }
      ]
    }
  ]
}